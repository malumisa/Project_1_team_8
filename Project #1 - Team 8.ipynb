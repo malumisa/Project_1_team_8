{
 "cells": [
  {
   "cell_type": "markdown",
   "id": "3b9b3b7d",
   "metadata": {},
   "source": [
    "# PROJECT 1 - Changing Behaviours During the COVID-19 Pandemic"
   ]
  },
  {
   "cell_type": "code",
   "execution_count": 1,
   "id": "0da4e23b",
   "metadata": {},
   "outputs": [],
   "source": [
    "# Dependencies\n",
    "import matplotlib.pyplot as plt\n",
    "import pandas as pd\n",
    "import numpy as np\n",
    "import requests\n",
    "from scipy.stats import linregress\n",
    "from pprint import pprint\n",
    "import scipy.stats as st\n",
    "import json"
   ]
  },
  {
   "cell_type": "markdown",
   "id": "0ab0cb26",
   "metadata": {},
   "source": [
    "## Demographics - Defining the  Canadian Population & Socioeconomic Composition"
   ]
  },
  {
   "cell_type": "code",
   "execution_count": null,
   "id": "6b8f98da",
   "metadata": {},
   "outputs": [],
   "source": [
    "# Using Canadian Census data from 2016 & 2021, define criteria and parameter for comparison/correlation\n"
   ]
  },
  {
   "cell_type": "code",
   "execution_count": null,
   "id": "4dbb8133",
   "metadata": {},
   "outputs": [],
   "source": [
    "# Transform the data\n",
    "# Describe the socioeconomic make-up of the Canadian population\n"
   ]
  },
  {
   "cell_type": "code",
   "execution_count": null,
   "id": "8cb258a4",
   "metadata": {},
   "outputs": [],
   "source": [
    "# Visdualize the data\n"
   ]
  },
  {
   "cell_type": "markdown",
   "id": "3a634af8",
   "metadata": {},
   "source": [
    "### Observations & Discussion"
   ]
  },
  {
   "cell_type": "markdown",
   "id": "a901a353",
   "metadata": {},
   "source": [
    "* \n",
    "\n",
    "______________________________________________________________________________________________________________________"
   ]
  },
  {
   "cell_type": "markdown",
   "id": "708245bc",
   "metadata": {},
   "source": [
    "## Food sales as a determinant of changing behaviours"
   ]
  },
  {
   "cell_type": "code",
   "execution_count": null,
   "id": "9e44efbc",
   "metadata": {},
   "outputs": [],
   "source": [
    "# Add CSV files\n",
    "# Read CSV file\n"
   ]
  },
  {
   "cell_type": "code",
   "execution_count": null,
   "id": "7dc6579f",
   "metadata": {},
   "outputs": [],
   "source": [
    "# Transform the dataset\n"
   ]
  },
  {
   "cell_type": "code",
   "execution_count": null,
   "id": "196df422",
   "metadata": {},
   "outputs": [],
   "source": [
    "# Visualize the dataset\n"
   ]
  },
  {
   "cell_type": "markdown",
   "id": "950673b9",
   "metadata": {},
   "source": [
    "### Observations & Discussion"
   ]
  },
  {
   "cell_type": "markdown",
   "id": "eab622b4",
   "metadata": {},
   "source": [
    "* \n",
    "\n",
    "______________________________________________________________________________________________________________________"
   ]
  },
  {
   "cell_type": "markdown",
   "id": "85a33100",
   "metadata": {},
   "source": [
    "## Retail sales as a determinant of changing behaviours"
   ]
  },
  {
   "cell_type": "code",
   "execution_count": null,
   "id": "9d5a48f8",
   "metadata": {},
   "outputs": [],
   "source": [
    "# Add CSV files\n",
    "# Read CSV file\n"
   ]
  },
  {
   "cell_type": "code",
   "execution_count": null,
   "id": "f0aa0e42",
   "metadata": {},
   "outputs": [],
   "source": [
    "# Transform the dataset\n"
   ]
  },
  {
   "cell_type": "code",
   "execution_count": null,
   "id": "29af64fa",
   "metadata": {},
   "outputs": [],
   "source": [
    "# Visualize the dataset\n"
   ]
  },
  {
   "cell_type": "markdown",
   "id": "dee1e7ee",
   "metadata": {},
   "source": [
    "### Observations & Discussion"
   ]
  },
  {
   "cell_type": "markdown",
   "id": "93027ecf",
   "metadata": {},
   "source": [
    "* \n",
    "\n",
    "______________________________________________________________________________________________________________________"
   ]
  },
  {
   "cell_type": "markdown",
   "id": "c3ac0c45",
   "metadata": {},
   "source": [
    "## Educational expenditures as a determinant of changing behaviours"
   ]
  },
  {
   "cell_type": "code",
   "execution_count": null,
   "id": "84a9ae50",
   "metadata": {},
   "outputs": [],
   "source": [
    "# Add CSV files\n",
    "# Read CSV file\n"
   ]
  },
  {
   "cell_type": "code",
   "execution_count": null,
   "id": "d64c9cdf",
   "metadata": {},
   "outputs": [],
   "source": [
    "# Transform the dataset\n"
   ]
  },
  {
   "cell_type": "code",
   "execution_count": null,
   "id": "897be009",
   "metadata": {},
   "outputs": [],
   "source": [
    "# Visualize the dataset\n"
   ]
  },
  {
   "cell_type": "markdown",
   "id": "6d605b03",
   "metadata": {},
   "source": [
    "### Observations & Discussion"
   ]
  },
  {
   "cell_type": "markdown",
   "id": "0fe3d7e3",
   "metadata": {},
   "source": [
    "* \n",
    "\n",
    "______________________________________________________________________________________________________________________"
   ]
  }
 ],
 "metadata": {
  "kernelspec": {
   "display_name": "Python 3 (ipykernel)",
   "language": "python",
   "name": "python3"
  },
  "language_info": {
   "codemirror_mode": {
    "name": "ipython",
    "version": 3
   },
   "file_extension": ".py",
   "mimetype": "text/x-python",
   "name": "python",
   "nbconvert_exporter": "python",
   "pygments_lexer": "ipython3",
   "version": "3.9.13"
  }
 },
 "nbformat": 4,
 "nbformat_minor": 5
}
